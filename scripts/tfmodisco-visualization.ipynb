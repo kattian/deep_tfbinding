{
 "cells": [
  {
   "cell_type": "code",
   "execution_count": 20,
   "metadata": {
    "collapsed": true
   },
   "outputs": [],
   "source": [
    "from __future__ import print_function, division\n",
    "%matplotlib inline\n",
    "\n",
    "\n",
    "import os\n",
    "resultDir = \"../results/\"\n",
    "os.chdir(resultDir)\n",
    "\n",
    "try:\n",
    "    reload  # Python 2.7\n",
    "except NameError:\n",
    "    try:\n",
    "        from importlib import reload  # Python 3.4+\n",
    "    except ImportError:\n",
    "        from imp import reload  # Python 3.0 - 3.3"
   ]
  },
  {
   "cell_type": "code",
   "execution_count": 21,
   "metadata": {
    "collapsed": false
   },
   "outputs": [
    {
     "name": "stdout",
     "output_type": "stream",
     "text": [
      "Theano version: 1.0.2\n",
      "2.7.15 |Anaconda, Inc.| (default, May  1 2018, 23:32:55) \n",
      "[GCC 7.2.0]\n"
     ]
    }
   ],
   "source": [
    "import numpy as np\n",
    "import modisco\n",
    "import theano\n",
    "print(\"Theano version:\",theano.__version__)\n",
    "import sys\n",
    "print (sys.version)"
   ]
  },
  {
   "cell_type": "markdown",
   "metadata": {},
   "source": [
    "## Run TF-MoDISco\n",
    "\n",
    "TF-MoDISco first identifies seqlets, then splits the seqlets into \"metaclusters\" according to their pattern of activity across all the tasks, and then performs clustering within each task. Since there is just one task, there are only 2 possible metaclusters: +1 for the task and -1 for the task. The -1 metacluster does not turn up any motifs after noise filtering, but the +1 metacluster produces two motifs.\n",
    "\n",
    "To demonstrate customization, the code below has slight modifications from default settings in the following ways:\n",
    "- Because the TAL and GATA motifs are relatively short compared to something like CTCF, it uses a sliding window size of 15 (rather than the default of 21) and flanks of 5 (rather than the default of 10). The sliding window size and flanks should be adjusted according to the expected length of the core motif and its flanks. If the window size or flank sizes are too long, you risk picking up more noise.\n",
    "- During the seqlet clustering, motifs are trimmed to the central `trim_to_window_size` bp with the highest importance. `trim_to_window_size` is set to 10 rather than the default of 30. After the trimming is done, the seqlet is expanded on either side by `initial_flank_to_add`. This is set to 3 rather than the default of 10.\n",
    "- The `final_min_cluster_size` is set to 60 rather than the default of 30. This is used to filter out small clusters with relatively weak support (in this case, fewer than 50 seqlets).\n",
    "- It uses kmers of length 5 with 1 gap and no mismatches to compute the \"quick and dirty\" affinity matrix across all seqlets. The \"quick and dirty\" affinity matrix is used both for noise filtering and as a first pass to speed up computation of the continuous jaccard affinity matrix (the latter affinities are only computed between seqlets deemed to be close together by the \"quick and dirty\" method). I made the kmer length smaller to keep memory usage on the GPU down when testing on my macbook pro. The default is to use kmers of length 8 with 3 gaps and 2 mismatches, and this works fine on more modern GPUs than the one in my 4-year-old macbook."
   ]
  },
  {
   "cell_type": "code",
   "execution_count": null,
   "metadata": {
    "collapsed": false,
    "scrolled": false
   },
   "outputs": [],
   "source": [
    "import h5py\n",
    "\n",
    "from collections import Counter\n",
    "from modisco.visualization import viz_sequence\n",
    "reload(viz_sequence)\n",
    "from matplotlib import pyplot as plt\n",
    "\n",
    "import modisco.affinitymat.core\n",
    "reload(modisco.affinitymat.core)\n",
    "import modisco.cluster.phenograph.core\n",
    "reload(modisco.cluster.phenograph.core)\n",
    "import modisco.cluster.phenograph.cluster\n",
    "reload(modisco.cluster.phenograph.cluster)\n",
    "import modisco.cluster.core\n",
    "reload(modisco.cluster.core)\n",
    "import modisco.aggregator\n",
    "reload(modisco.aggregator)\n",
    "\n",
    "hdf5_results = h5py.File(\"results.hdf5\")\n",
    "print(hdf5_results)\n",
    "\n",
    "metacluster_names = list(hdf5_results[\"metaclustering_results\"][\"all_metacluster_names\"][:])\n",
    "\n",
    "for metacluster_name in metacluster_names:\n",
    "    print(metacluster_name)\n",
    "    metacluster_grp = (hdf5_results[\"metacluster_idx_to_submetacluster_results\"]\n",
    "                                   [metacluster_name])\n",
    "    print(\"activity pattern:\",metacluster_grp[\"activity_pattern\"][:])\n",
    "    all_pattern_names = (list(metacluster_grp[\"seqlets_to_patterns_result\"]\n",
    "                                             [\"patterns\"][\"all_pattern_names\"][:]))\n",
    "    for pattern_name in all_pattern_names:\n",
    "        print(pattern_name)\n",
    "        pattern = metacluster_grp[\"seqlets_to_patterns_result\"][\"patterns\"][pattern_name]\n",
    "        print(\"total seqlets:\",len(pattern[\"seqlets_and_alnmts\"][\"seqlets\"]))\n",
    "        background = np.array([0.27, 0.23, 0.23, 0.27])\n",
    "        #print(\"Task 0 hypothetical scores:\")\n",
    "        #viz_sequence.plot_weights(pattern[\"task0_hypothetical_contribs\"][\"fwd\"])\n",
    "        print(\"Task 0 actual importance scores:\")\n",
    "        viz_sequence.plot_weights(pattern[\"task0_contrib_scores\"][\"fwd\"])\n",
    "        print(\"onehot, fwd and rev:\")\n",
    "        viz_sequence.plot_weights(viz_sequence.ic_scale(np.array(pattern[\"sequence\"][\"fwd\"]),\n",
    "                                                        background=background)) \n",
    "        viz_sequence.plot_weights(viz_sequence.ic_scale(np.array(pattern[\"sequence\"][\"rev\"]),\n",
    "                                                        background=background)) \n",
    "        \n",
    "hdf5_results.close()"
   ]
  },
  {
   "cell_type": "code",
   "execution_count": null,
   "metadata": {
    "collapsed": true
   },
   "outputs": [],
   "source": []
  }
 ],
 "metadata": {
  "kernelspec": {
   "display_name": "gpu27a",
   "language": "python",
   "name": "gpu27a"
  },
  "language_info": {
   "codemirror_mode": {
    "name": "ipython",
    "version": 2
   },
   "file_extension": ".py",
   "mimetype": "text/x-python",
   "name": "python",
   "nbconvert_exporter": "python",
   "pygments_lexer": "ipython2",
   "version": "2.7.13"
  }
 },
 "nbformat": 4,
 "nbformat_minor": 1
}
